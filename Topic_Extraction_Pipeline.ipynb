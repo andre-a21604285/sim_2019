{
 "cells": [
  {
   "cell_type": "markdown",
   "metadata": {},
   "source": [
    "# Text Analysis for Topic Extraction Pipeline\n",
    "\n",
    "In this module we focus on the most widespread and present media form: **text**.  \n",
    "Text is every-where, in spoken language, books, websites, and so on.\n",
    "\n",
    "It is no surprise that the success of big search engines is based on the appropriate analysis of text. \n",
    "Deriving ‘meaning’ from text is far from trivial, indeed it is a very difficult task.\n",
    "Consider that meaning in text is created by distributions of words in specific language, following very specific and diverse grammar rules.\n",
    "These arrangements are further nuanced by cultural codes, shorthands, metaphors, analogies, irony, specific references and so on.,\n",
    "\n",
    "So, in this module, we are going to analyse this kind of media to extract topics in with the help of some statistical tools that can be seen as semi-automated.\n",
    "\n",
    "## Topic Modelling\n",
    "\n",
    "Imagine we have a large collection of documents that we want to understand without going through the arduous process of reading each and every one of them. Since we don’t have any prior information that tells us the content or subject of each document we have what we call in Machine Learning an **unsupervised problem** (more about this will be teached in a few weeks).\n",
    "\n",
    "In this kind of setup, our goal is to find *latent* topics or themes in a collection of documents (corpus). Here, we refer to the topics as *latent* because they are not known to us. This is the reason why we need an algorithm to uncover these *latent* topics.\n",
    "A family of techniques that allow us to do this is *Matrix Factorization* - and in this task we are going to use the **Non Negative Matrix Factorization** (NMF) technique.\n",
    "\n",
    "### Doesn't the use of NMR implies that we are going to work with matrices? But we have text documents! How can I cast a document into a matrix?\n",
    "\n",
    "Indeed, this will be something that we need to do - to \"cast\" documents (or, better saying, to model each document as a vector in a vector space).\n",
    "\n",
    "In this cense, the high-level pipeline is going to be one such as described in fig. 1."
   ]
  },
  {
   "cell_type": "markdown",
   "metadata": {},
   "source": [
    "![Bag Of Words](./imgs/pipeline_high_level.jpeg)\n",
    "Figure 1. Topic Pipeline (High Level)"
   ]
  },
  {
   "cell_type": "markdown",
   "metadata": {},
   "source": [
    "In order to do createa a matrix representatioj, we are going to use a family of techniques known as **Bag of Words**."
   ]
  },
  {
   "cell_type": "markdown",
   "metadata": {},
   "source": [
    "## 1. A primer to the Bag Of Words Pipeline\n",
    "\n",
    "The life cycle of statistical text processing can be seen as a four stages core, that are ilustrated in the figure below. \n",
    "\n",
    "The starting point of this process is the availability of a **corpus** - which is a collection of text documents.\n",
    "For example, we can have a corpus on political debates, cooking recipes, the news broadcast by a given agency in a time period, and so on. \n",
    "\n",
    "Corpora (plural ofcorpus) thus often gather many documents on a given theme, and our goal is to find the different topics that make up that theme."
   ]
  },
  {
   "cell_type": "markdown",
   "metadata": {},
   "source": [
    "![Bag Of Words](./imgs/bag_of_words_pipeline.png)\n",
    "Figure 1. Bag Of Words Pipeline"
   ]
  },
  {
   "cell_type": "markdown",
   "metadata": {},
   "source": [
    "### 1.1 It all starts with a corpus\n",
    "\n",
    "Any kind of text analysis always starts with a corpus. Maybe that corpus are Tweeks, or maybe that corpus are News.\n",
    "And that corpus can be in many data formats - Web Pages that need to be scrapped, Text Files that need to be parsed, or some binary format that needs to be interpreted.\n",
    "\n",
    "Let's make some examples with a text file that contains several news for a given time period, and let's parse the file!\n",
    "\n",
    "Why do we need to parse the file? Well, if we want to understand the words of a given document in the file, we need to be able to access to different documents as we need - If I want to access to document 17, I must have a way to do.\n",
    "Therefore, we need to create some kind of structure in memory to process these documents on the file!"
   ]
  },
  {
   "cell_type": "markdown",
   "metadata": {},
   "source": [
    "### 1.2 Step 1 - Parse the Data\n",
    "\n",
    "To parse the data into memory, we can start by getting every document in the file as a string, and store each document into a List."
   ]
  },
  {
   "cell_type": "code",
   "execution_count": 2,
   "metadata": {},
   "outputs": [
    {
     "name": "stdout",
     "output_type": "stream",
     "text": [
      "The corpus contains 2461 documents\n"
     ]
    }
   ],
   "source": [
    "document_list = []\n",
    "# this is the dataset that we have been working with in the classes\n",
    "# change the path of the file to where it is in your computer\n",
    "with open('data/NYT_Corpus.txt', encoding = \"UTF-8\") as f:   \n",
    "    \n",
    "    for line in f:\n",
    "        found_url = line[:9] == \"URL: http\" and line[-6:]==\".html\\n\"\n",
    "        if found_url:\n",
    "            f.readline()\n",
    "            document_list.append(\"\")\n",
    "        else:\n",
    "            document_list[len(document_list)-1] += line\n",
    "\n",
    "corpus = [doc for doc in document_list if len(doc) > 0]\n",
    "\n",
    "print(f\"The corpus contains {len(corpus)} documents\")"
   ]
  },
  {
   "cell_type": "markdown",
   "metadata": {},
   "source": [
    "And now we have some data in memory with which we can start the pipeline described above!"
   ]
  },
  {
   "cell_type": "markdown",
   "metadata": {},
   "source": [
    "## 2. Clean Documents\n",
    "\n",
    "Now that we have our corpus, the first stage is concerned with cleaning the documents.The main idea here is to remove ‘noise’ in the form of text that has little to say about what a documentis speaking about.  \n",
    "\n",
    "Statistical Text Analysis (STA) is concerned with the distributions of words. This is so in the sense that a document that contains many copies of the words ‘oven’, ‘cook’and ‘onion’ are likely to be about recipes/food.  \n",
    "STA is not concerned with grammar rules of anykind.  For this reason, all connectors, punctuation marks and so on are not important to STA(and indeed they are eliminated as we will see later).  \n",
    "\n",
    "Other methods for analysing text in thefield of Deep Natural Language processing are interested in (and use) grammar rules but we donnot study Deep NLP in this course."
   ]
  },
  {
   "cell_type": "markdown",
   "metadata": {},
   "source": [
    "### What is our goal in this step\n",
    "\n",
    "Now we have a lot of words in the documents, as well as some other chars (e.g. punctuation). At the end of this Data Cleaning step, we need to have:\n",
    "\n",
    "1. No punctuation chars\n",
    "2. \"normalized\" words in two senses:\n",
    "    - we and all the words in the same case (lower case)\n",
    "    - in the sense that mapping, mapper and map are all words from the same family, and for this analysis we want these to be the same word instead of different words\n",
    "3. Clean words that are not going to help us understand topics"
   ]
  },
  {
   "cell_type": "markdown",
   "metadata": {},
   "source": [
    "### 2.1 Interpreting tokens in each document\n",
    "\n",
    "So, one first step that we need to model is to understand what we are going to define as a valid tokens. For every document, as we are going thought it, we are going to need to filter valid tokens - only letting pass tokens that we have defined as valid.\n",
    "\n",
    "In this exercise, let's define a **valid token** as any sequence of letters (being if upper or lowercase) as well as any sequence of numbers.\n",
    "\n",
    "In order to do so, let's use a `regex` pattern which is `\\w`, meaning that:\n",
    "1. We want a sequence with at least of letter, being it upper or lower case\n",
    "2. We want any sequence with at least one number\n",
    "3. The catch on using this pattern is that we are going to allow the underscore char as well (`_`), but this allow our regex pattern to be a small and readable string :)"
   ]
  },
  {
   "cell_type": "markdown",
   "metadata": {},
   "source": [
    "### 2.2 Putting the words in lower case\n",
    "\n",
    "This step can be done either before the tokenization of after the tokenization, given that we are creating tokens out of both lower and upper case chars.\n",
    "So, this step is here as the second not because it needs to be done here, but for us not to forget that this needs to be done - being it before, during or after the tokenization"
   ]
  },
  {
   "cell_type": "markdown",
   "metadata": {},
   "source": [
    "### 2.3 Stemming the words\n",
    "\n",
    "One of our goals is this step is to normalize words of the same family.\n",
    "\n",
    "For example, if I have the words mapping, mapper and map, I want these different words that are the same semantic to be the same word.\n",
    "\n",
    "\n",
    "A process that can help us do that is called Stem."
   ]
  },
  {
   "cell_type": "code",
   "execution_count": 3,
   "metadata": {},
   "outputs": [],
   "source": [
    "from nltk.tokenize import RegexpTokenizer\n",
    "from nltk.stem import PorterStemmer\n",
    "\n",
    "tokenizer = RegexpTokenizer(r'\\w+')\n",
    "ps = PorterStemmer()\n",
    "\n",
    "def mytokeniser(s):\n",
    "    aux = [w.lower() for w in tokenizer.tokenize(s)]\n",
    "    return list(map(ps.stem, aux))\n",
    "\n",
    "tokenised_corpus = list(map(mytokeniser, corpus))\n"
   ]
  },
  {
   "cell_type": "markdown",
   "metadata": {},
   "source": [
    "### Cleaning words that will not help us understand topics\n",
    "\n",
    "So, given that Statistical Text Analysis (STA) is about data distribution, events that are constants (e.g. words that appear in every document - stop words for example) and events that are rare (e.g. word that appear in, for example, only in 3% in the documents of the corpus) are not going to be relevant for ou topic analysis, aren't they? \n",
    "\n",
    "Thinkg about this a little bit, and let this sink in."
   ]
  },
  {
   "cell_type": "markdown",
   "metadata": {},
   "source": [
    "Does it makes sense now? Awesome!\n",
    "\n",
    "So, we now need a way to understand which words are which.\n",
    "\n",
    "The way we are going to do this is:\n",
    "1. Creating a vocabulary - a set of all the terms in the corpus\n",
    "2. Score all the terms with a metric that help us understand the incident of a given term in a corpus.\n",
    "    - This score will put the rare events in one extreme, and the constant events the another extreme (e.g. rare terms having the higher values, and constant terms having the lower values).\n",
    "    - The above line yields that, for topic analysis, we want the words that are in between of those two\n",
    "3. Based on these metrics, let's filter the terms and stay only with those relevant for topic analysis "
   ]
  },
  {
   "cell_type": "markdown",
   "metadata": {},
   "source": [
    "### 2.4 Creating a vocabulary"
   ]
  },
  {
   "cell_type": "markdown",
   "metadata": {},
   "source": [
    "Given that this corpus has a lot of document, I am going to sample the corpus and will only use 100 documents"
   ]
  },
  {
   "cell_type": "code",
   "execution_count": 4,
   "metadata": {},
   "outputs": [
    {
     "name": "stdout",
     "output_type": "stream",
     "text": [
      "My vocabolary size is 39539\n"
     ]
    }
   ],
   "source": [
    "tokenized_corpus_sampled = tokenised_corpus\n",
    "tokenized_corpus_sampled_idf_search = list(map(set, tokenized_corpus_sampled))\n",
    "\n",
    "vocab = set()\n",
    "\n",
    "for doc in tokenized_corpus_sampled:\n",
    "    vocab = vocab.union(set(doc))  \n",
    "\n",
    "print(f\"My vocabolary size is {len(vocab)}\")"
   ]
  },
  {
   "cell_type": "markdown",
   "metadata": {},
   "source": [
    "### 2.5 Scoring extreme terms\n",
    "\n",
    "The metric we are going to use to score the terms and therefore to get the extreme event is going to be the *IDF* metric."
   ]
  },
  {
   "cell_type": "markdown",
   "metadata": {},
   "source": [
    "#### The IDF Metric\n",
    "\n",
    "Suppose  for  example  that  in  our  corpus  the  word  ‘rice’  appears  in  every  document.   \n",
    "Suppose that you are the librarian keeping this corpus,  and somebody comes searching for a subset of documents in a given topic from your corpus.  \n",
    "Imagine this library visitor tells you ‘rice’.  You go into the box to fetch all the documents that contain that word.  Clearly you will come backwith the entire box because every document in it contains that term.  \n",
    "Was ‘rice’ a helpful term to support the library visitor’s needs?  Not really.  In fact not helpful at all. \n",
    "\n",
    "This is where Inverse Document Frequency or IDF comes in handy.  This number will represent the importance of a term in a given corpus, calculated using the following formula:\n",
    "\n",
    "$IDF = log(\\frac{N}{df_t})$\n",
    "\n",
    "Where:\n",
    "- N is the number of document in the corpus\n",
    "- $df_t$ is the number of documents where the term $t$ is in"
   ]
  },
  {
   "cell_type": "code",
   "execution_count": 5,
   "metadata": {},
   "outputs": [],
   "source": [
    "import math\n",
    "\n",
    "idfvocab = {}\n",
    "\n",
    "def idf(term, corpus):\n",
    "    cnt =  sum([1 if term in doc else 0 for doc in corpus])\n",
    "    return math.log10( len(corpus) / cnt )\n",
    "\n",
    "for term in vocab:\n",
    "    term_idf = idf(term, tokenized_corpus_sampled_idf_search)\n",
    "    idfvocab[term] = term_idf\n",
    "\n",
    "\n"
   ]
  },
  {
   "cell_type": "markdown",
   "metadata": {},
   "source": [
    "### 2.6 Let's filter out those extreme events\n",
    "\n",
    "So, we now have our terms with a given metric scored. \n",
    "For us to filter the extreme events, there are several ways for doing so. \n",
    "\n",
    "We can think that we want to remove, for example, the upper 25% of the tokens and the lower 25% of the tokens.\n",
    "\n",
    "We can also say that we want, at most only 200 tokens that are somewhere in the middle of the distribution to pass this filter.\n",
    "\n",
    "The following example will be with the latter mindset."
   ]
  },
  {
   "cell_type": "code",
   "execution_count": 6,
   "metadata": {},
   "outputs": [
    {
     "name": "stdout",
     "output_type": "stream",
     "text": [
      "Min is 0.0005297351523672848 and max is 3.3911116137028023\n"
     ]
    }
   ],
   "source": [
    "import numpy as np\n",
    "\n",
    "idfvocab_it = [(el[0],el[1]) for el in idfvocab.items()]\n",
    "\n",
    "aux = np.array( idfvocab_it )\n",
    "low = float( min( aux[:,1] ) )\n",
    "high = float( max( aux[:,1] ) )\n",
    "\n",
    "print(f\"Min is {low} and max is {high}\")"
   ]
  },
  {
   "cell_type": "code",
   "execution_count": 9,
   "metadata": {},
   "outputs": [],
   "source": [
    "def keep_terms( lower, upper, threshold, step, idf_vocabulary ):\n",
    "    low = lower\n",
    "    up = upper\n",
    "    candidates = idf_vocabulary\n",
    "    while len(candidates) > threshold:\n",
    "        #print(f\"current vocabolary size is {len(candidates)}\")\n",
    "        low = low + step\n",
    "        up = up - step\n",
    "        candidates = [  term for term in idf_vocabulary if term[1] >= low and term[1] <= up  ]\n",
    "    return candidates\n",
    "\n",
    "\n",
    "cnd = keep_terms(low, high, int(len(idfvocab_it)*0.2), 0.005, idfvocab_it)\n",
    "len(cnd)\n",
    "\n",
    "vc = np.array(cnd) #a matrix, with column 0 being terms and column 1 being idf\n",
    "vc_terms = vc[:,0] "
   ]
  },
  {
   "cell_type": "markdown",
   "metadata": {},
   "source": [
    "By the end of this process, we now have our Bag of Words to continue this analysis! Notice that every document is going to be encoded with this bag of words in a vector space - we now have a unified (single) corpus representation!"
   ]
  },
  {
   "cell_type": "markdown",
   "metadata": {},
   "source": [
    "## Construction of the TF-IDF Matrix\n",
    "\n",
    "This step is the core of the STA life cycle. What  is  interesting  here  is  that,  while  starting with a corpus made of disjoint elements (a collection of documents),  we end up with a single corpus representation.  \n",
    "\n",
    "This single representation unifies the information we have about the comprised documents.  Therefore we can use this single data structure to reason about the entire corpus!  \n",
    "For this goal, working with an universal dictionary of terms is essential."
   ]
  },
  {
   "cell_type": "markdown",
   "metadata": {},
   "source": [
    "#### The TF Metric\n",
    "\n",
    "Term Frequency or simply TF is a numeric quantity used to express the importance of a term inside a document.  \n",
    "In its raw form, it is simply the count of times a term appears in a document.\n",
    "\n",
    "However, here we compute TF as a proportion, by dividing this count by the total number of tokens  in  the  (stemmed)  document.   "
   ]
  },
  {
   "cell_type": "markdown",
   "metadata": {},
   "source": [
    "#### The TF-IDF Metric\n",
    "\n",
    "The final quantity that we will use to measure the importance of a term inside a document that belongs to a corpus os the standard TF.IDF measure which is simply:\n",
    "\n",
    "$TF.IDF^d_t = TF^d_t * IDF_t$\n",
    "\n",
    "Here $t$ refers as always to the term, and $d$ to a specific document. \n",
    "\n",
    "What is the effect of multiplying the original normalised TF by the IDF? The IDF acts as a modulator.  If the TF is high but the term is everywhere in the corpus, the IDF will be low, so the TF is brought down.  If a TF is medium, but the IDF is high then its importance is modulated upwards."
   ]
  },
  {
   "cell_type": "code",
   "execution_count": 70,
   "metadata": {},
   "outputs": [],
   "source": [
    "def normTFx(term,doc):\n",
    "    return doc.count(term)/len(doc)\n",
    "\n",
    "def tfidfmat(corpus, tl, idfvocab) :\n",
    "    mat =[]\n",
    "    for term in tl :\n",
    "        idft = idfvocab[term]\n",
    "        row = []\n",
    "        for doc in corpus:\n",
    "            tft = normTFx(term,doc)\n",
    "            tf_idf_term_document = tft*idft\n",
    "            row.append(tf_idf_term_document)\n",
    "        mat.append(row)\n",
    "    return mat    \n",
    "            \n",
    "    \n",
    "\n",
    "tfidf_matrix = tfidfmat(tokenized_corpus_sampled, vc_terms, idfvocab) \n",
    "tfidf_matrix_np = np.array(tfidf_matrix)"
   ]
  },
  {
   "cell_type": "code",
   "execution_count": 10,
   "metadata": {},
   "outputs": [],
   "source": [
    "# Here is an optimized implementation for te creation of the TF.IDF Matrix, that takes less than half the time than the implementation above\n",
    "\n",
    "\n",
    "def normTFx_optimized(term, docMapCount, docLength):\n",
    "    '''\n",
    "        If you compare this implementation with the above one, you can notice that:\n",
    "           - docMapCount is a dictionary where the key is the term, and the value is the count of the term in that document\n",
    "           - the length of the document is received as a parameter\n",
    "        This leads that, in this implementation, for each time we need to count a term in a document, we get that in constant time\n",
    "    '''\n",
    "    return (docMapCount.get(term) or 0)/docLength\n",
    "\n",
    "\n",
    "from functools import reduce\n",
    "\n",
    "\n",
    "def reduce_doc_map_count(reduced, el):\n",
    "    if el in reduced:\n",
    "        reduced[el] += 1\n",
    "    else:\n",
    "        reduced[el] = 1\n",
    "    return reduced\n",
    "\n",
    "\n",
    "'''\n",
    "    the bellow code is doing the same as the following:\n",
    "    for doc in tokenized_corpus_sampled:\n",
    "        docMapCount = {}\n",
    "        for term in doc:\n",
    "            if term in docMapCount:\n",
    "                docMapCount[term] += 1\n",
    "            else:\n",
    "                docMapCount[term] = 1\n",
    "'''\n",
    "tokenized_corpus_sampled_map_count = list(map( lambda doc: reduce( reduce_doc_map_count , doc, {}  ) , tokenized_corpus_sampled  ))\n",
    "\n",
    "def tfidfmat(corpusMapCount, corpus, tl,idfvocab) :\n",
    "    mat =[]\n",
    "    for term in tl :\n",
    "        idft = idfvocab[term]\n",
    "        row = []\n",
    "        for i in range(len(corpus)):\n",
    "            tft = normTFx_optimized(term,corpusMapCount[i],len(corpus[i]))\n",
    "            tf_idf_term_document = tft*idft\n",
    "            row.append(tf_idf_term_document)\n",
    "        mat.append(row)\n",
    "    return mat    \n",
    "            \n",
    "    \n",
    "\n",
    "tfidf_matrix = tfidfmat(tokenized_corpus_sampled_map_count, tokenized_corpus_sampled, vc_terms, idfvocab) \n",
    "tfidf_matrix_np = np.array(tfidf_matrix)"
   ]
  },
  {
   "cell_type": "code",
   "execution_count": 11,
   "metadata": {},
   "outputs": [
    {
     "data": {
      "text/plain": [
       "(7715, 2461)"
      ]
     },
     "execution_count": 11,
     "metadata": {},
     "output_type": "execute_result"
    }
   ],
   "source": [
    "tfidf_matrix_np.shape"
   ]
  },
  {
   "cell_type": "code",
   "execution_count": 13,
   "metadata": {},
   "outputs": [
    {
     "name": "stdout",
     "output_type": "stream",
     "text": [
      "The document with index 0 contains 833 words\n",
      "The term with index 0 is `manslaught`\n",
      "The importance of the term `manslaught` in the document with idx = 0 is 0.0\n"
     ]
    }
   ],
   "source": [
    "print(f\"The document with index 0 contains {len(tokenized_corpus_sampled[0])} words\")\n",
    "print(f\"The term with index 0 is `{vc_terms[0]}`\")\n",
    "\n",
    "print(f\"The importance of the term `{vc_terms[0]}` in the document with idx = 0 is {tfidf_matrix_np[0,0]}\")"
   ]
  },
  {
   "cell_type": "markdown",
   "metadata": {},
   "source": [
    "Now  we  have  all  we  need  to  construct  our  single representation  of  the  corpus  as  a  matrix.   \n",
    "\n",
    "This  matrix has  rows representing  the  terms  of the  universal  dictionary  for  the  corpus,  and  columns  representing  the  contained  documents. Therefore a given cell $S_{t,d}$ of the matrix will contain the corresponding $TF.IDF^d_t$."
   ]
  },
  {
   "cell_type": "markdown",
   "metadata": {},
   "source": [
    "## Matrix Decomposition\n",
    "\n",
    "### Factorizing the Matrix with NMF\n",
    "\n",
    "\n",
    "By applying the NMF, we are creating an \"inner subspace\" with `k` dimensions where the algorithm is going to optimize the values that minimize the representation error of the TF.IDF matrix.\n",
    "\n",
    "Take the below image as a reference to visualize that:\n"
   ]
  },
  {
   "cell_type": "markdown",
   "metadata": {},
   "source": [
    "![Bag Of Words](./imgs/tfidf_nmf_fatorization.png)\n",
    "\n",
    "Figure 3. TF.IDF NMF topic space representation"
   ]
  },
  {
   "cell_type": "markdown",
   "metadata": {},
   "source": [
    "$TF.IDF_{i,j} = \\sum_{k=1}^{K} A_{i,k} * B_{k,j}$"
   ]
  },
  {
   "cell_type": "markdown",
   "metadata": {},
   "source": [
    "In other words, we are trying to recreate each position of the  $TF.IDF$ matrix ($TF.IDF_{i,j}$) by finding K latent variables.\n",
    "Moreover, since the method is applied to non-negative matrices, this imples an additive combination of basis parts to reconstruct the whole - meaning that (generally) factors that do not contribute will be weighted as zeros (instead of a 5 and a -5, if the factor doesn't contribute this method forces the values to be 0 and 0, because the matrices $A$ and $B$ will be positive)"
   ]
  },
  {
   "cell_type": "code",
   "execution_count": 14,
   "metadata": {},
   "outputs": [],
   "source": [
    "from sklearn.decomposition import NMF\n",
    "model = NMF(n_components=4, init='random', random_state=0)\n",
    "W = model.fit_transform(tfidf_matrix_np) # loadings\n",
    "H = model.components_ #scores"
   ]
  },
  {
   "cell_type": "code",
   "execution_count": 15,
   "metadata": {},
   "outputs": [
    {
     "data": {
      "text/plain": [
       "(7715, 4)"
      ]
     },
     "execution_count": 15,
     "metadata": {},
     "output_type": "execute_result"
    }
   ],
   "source": [
    "W.shape"
   ]
  },
  {
   "cell_type": "code",
   "execution_count": 16,
   "metadata": {},
   "outputs": [
    {
     "data": {
      "text/plain": [
       "(4, 2461)"
      ]
     },
     "execution_count": 16,
     "metadata": {},
     "output_type": "execute_result"
    }
   ],
   "source": [
    "H.shape"
   ]
  },
  {
   "cell_type": "markdown",
   "metadata": {},
   "source": [
    "In this setup, the loading matrix is the `W`, where we \"cross\" terms and factors.\n",
    "\n",
    "Let's analyse the top 7 terms for each of these factors.\n"
   ]
  },
  {
   "cell_type": "code",
   "execution_count": 17,
   "metadata": {},
   "outputs": [],
   "source": [
    "def get_top_N_terms(matrix_slice, N):\n",
    "    return matrix_slice.argsort()[-N:]"
   ]
  },
  {
   "cell_type": "code",
   "execution_count": 18,
   "metadata": {},
   "outputs": [],
   "source": [
    "def get_terms_from_slice(loadings_matrix, idx, topN, bag_of_words, orientation=\"col\"):\n",
    "    '''\n",
    "        the parameter `orientation` can either be \"col\" or \"row\", so we can process a loadings matrix being it transposed or not\n",
    "    '''\n",
    "    k = None\n",
    "    if orientation == \"col\":\n",
    "        k = loadings_matrix[:,idx]\n",
    "    elif orientation == \"row\":\n",
    "        k = loadings_matrix[idx,:]\n",
    "    else:\n",
    "        raise Exception(\"Orientation not recognized\")\n",
    "    k_top5terms_idx = get_top_N_terms(k,topN)\n",
    "    return bag_of_words[k_top5terms_idx]\n",
    "    "
   ]
  },
  {
   "cell_type": "code",
   "execution_count": 20,
   "metadata": {},
   "outputs": [
    {
     "name": "stdout",
     "output_type": "stream",
     "text": [
      "The terms with more weight in the component 0 are: ['nomine' 'sander' 'presidenti' 'hillari' 'obama' 'voter' 'donald' 'senat'\n",
      " 'clinton' 'trump']\n",
      "The terms with more weight in the component 1 are: ['marri' 'music' 'dr' 'student' 'groom' 'bride' 'y' 'bank' 'ali' 'graduat']\n",
      "The terms with more weight in the component 2 are: ['prewar' 'eye' 'bedroom' 'bath' 'edg' 'captur' 'sharp' 'adventur'\n",
      " 'stylish' 'cunningham']\n",
      "The terms with more weight in the component 3 are: ['3622' '6397' 'correct' '800' '212' '698' '556' 'com' 'mail' 'nytim']\n"
     ]
    }
   ],
   "source": [
    "top_words = 10\n",
    "for k in range(0,W.shape[1]):\n",
    "    # Get terms for the k-th characteristic / topic\n",
    "    print(f\"The terms with more weight in the component {k} are: {get_terms_from_slice(W, k, top_words, vc_terms)}\")\n",
    "\n",
    "# here we are printing the top 7, but the this choise is arbitrary - we are going to analyze as much as we need to understand the topics"
   ]
  },
  {
   "cell_type": "markdown",
   "metadata": {},
   "source": [
    "### Decomposition of eigenvectors (and values) using PCA\n",
    "\n",
    "On the other hand, what the PCA does it quite different. The PCA is a technique that will find a squared matrix (let's call this matrix loadings) from the input matrix, where the number of columns of the input matrix defines the number of column and lines of the loadings' matrix.\n",
    "\n",
    "The loading matrix is squared because what the PCA did was to obtained another base for the dataset, where each base represents a given percentage of data variability (explainability) - the first base is the component that explains more variability, followed by the second component, that is followed by the third component... you get the idea.\n",
    "\n",
    "\n"
   ]
  },
  {
   "cell_type": "markdown",
   "metadata": {},
   "source": [
    "![Bag Of Words](./imgs/tfidf_pca_fatorization.png)\n",
    "\n",
    "Figure 4. TF.IDF NMF topic space representation"
   ]
  },
  {
   "cell_type": "markdown",
   "metadata": {},
   "source": [
    "PCA is used to get new components that can explain the variability of the data. The loadings matrix is one such it contains new dimensions - each representing a certain variability of the data - and in each new dimension you can also check the importance of the input variables.\n",
    "\n",
    "So, let's suposed that we have a dataset with 5 columns. We apply the PCA, and the first two components can explain 99% of the data variability. Do we really need to use the other 3 components that are outputed by the pca?\n",
    "\n",
    "Well, the PCA is therefore usefull to generate a low dimensional encoding of an high-dimensional data space - and to do this the PCA will explain the data variability on the data.\n",
    "\n",
    "With this in mind, let's try to interpretate the loadings matrix outputed by the PCA, to compare that with the loadings matrix from NMF."
   ]
  },
  {
   "cell_type": "code",
   "execution_count": 133,
   "metadata": {},
   "outputs": [
    {
     "name": "stdout",
     "output_type": "stream",
     "text": [
      "[0.0116727  0.01008413 0.00903723 0.00785882]\n"
     ]
    }
   ],
   "source": [
    "from sklearn.decomposition import PCA\n",
    "pca = PCA(n_components=4)\n",
    "pca.fit(tfidf_matrix_np.transpose()) \n",
    "print(pca.explained_variance_ratio_)  \n"
   ]
  },
  {
   "cell_type": "code",
   "execution_count": 134,
   "metadata": {},
   "outputs": [
    {
     "name": "stdout",
     "output_type": "stream",
     "text": [
      "The terms with more weight in the component 0 are: ['800' '212' '698' '556' 'com' 'mail' 'nytim']\n",
      "The terms with more weight in the component 1 are: ['obama' 'hillari' 'senat' 'voter' 'donald' 'clinton' 'trump']\n",
      "The terms with more weight in the component 2 are: ['champion' 'heavyweight' 'foreman' 'muhammad' 'louisvil' 'frazier' 'ali']\n",
      "The terms with more weight in the component 3 are: ['trump' 'degre' 'marri' 'y' 'groom' 'bride' 'graduat']\n"
     ]
    }
   ],
   "source": [
    "for k in range(0,pca.components_.shape[0]):\n",
    "    # Get terms for the k-th characteristic / topic\n",
    "    print(f\"The terms with more weight in the component {k} are: {get_terms_from_slice(pca.components_, k, 7, vc_terms,'row')}\")\n",
    "\n",
    "# here we are printing the top 7, but the this choise is arbitrary - we are going to analyze as much as we need to understand the topics"
   ]
  },
  {
   "cell_type": "markdown",
   "metadata": {},
   "source": [
    "## So is the NMF always preferable to PCA?"
   ]
  },
  {
   "cell_type": "markdown",
   "metadata": {},
   "source": [
    "**The selection of the appropriate method depends upon the question being asked**"
   ]
  },
  {
   "cell_type": "markdown",
   "metadata": {},
   "source": [
    "## Examples where the PCA shines"
   ]
  },
  {
   "cell_type": "markdown",
   "metadata": {},
   "source": [
    "### Reducing dimentionality to understand structure of the data"
   ]
  },
  {
   "cell_type": "markdown",
   "metadata": {},
   "source": [
    "Let's start with the following dataset:"
   ]
  },
  {
   "cell_type": "code",
   "execution_count": 100,
   "metadata": {},
   "outputs": [
    {
     "data": {
      "text/html": [
       "<div>\n",
       "<style scoped>\n",
       "    .dataframe tbody tr th:only-of-type {\n",
       "        vertical-align: middle;\n",
       "    }\n",
       "\n",
       "    .dataframe tbody tr th {\n",
       "        vertical-align: top;\n",
       "    }\n",
       "\n",
       "    .dataframe thead th {\n",
       "        text-align: right;\n",
       "    }\n",
       "</style>\n",
       "<table border=\"1\" class=\"dataframe\">\n",
       "  <thead>\n",
       "    <tr style=\"text-align: right;\">\n",
       "      <th></th>\n",
       "      <th>Si</th>\n",
       "      <th>Al</th>\n",
       "      <th>Mg</th>\n",
       "      <th>Ca</th>\n",
       "      <th>Na</th>\n",
       "      <th>K</th>\n",
       "      <th>Fe</th>\n",
       "      <th>Ti</th>\n",
       "      <th>S</th>\n",
       "      <th>Ba</th>\n",
       "      <th>...</th>\n",
       "      <th>As</th>\n",
       "      <th>Sb</th>\n",
       "      <th>Zr</th>\n",
       "      <th>P</th>\n",
       "      <th>Cl</th>\n",
       "      <th>Cr</th>\n",
       "      <th>Mn</th>\n",
       "      <th>Ni</th>\n",
       "      <th>Cu</th>\n",
       "      <th>Sr</th>\n",
       "    </tr>\n",
       "  </thead>\n",
       "  <tbody>\n",
       "    <tr>\n",
       "      <th>0</th>\n",
       "      <td>78.564</td>\n",
       "      <td>0.0</td>\n",
       "      <td>1.963</td>\n",
       "      <td>5.450</td>\n",
       "      <td>12.732</td>\n",
       "      <td>0.220</td>\n",
       "      <td>0.026</td>\n",
       "      <td>0.0</td>\n",
       "      <td>0.283</td>\n",
       "      <td>0.007</td>\n",
       "      <td>...</td>\n",
       "      <td>0.083</td>\n",
       "      <td>0.151</td>\n",
       "      <td>0.002</td>\n",
       "      <td>0.023</td>\n",
       "      <td>0.055</td>\n",
       "      <td>0.002</td>\n",
       "      <td>0.108</td>\n",
       "      <td>0.0</td>\n",
       "      <td>0.002</td>\n",
       "      <td>0.003</td>\n",
       "    </tr>\n",
       "    <tr>\n",
       "      <th>1</th>\n",
       "      <td>77.869</td>\n",
       "      <td>0.0</td>\n",
       "      <td>1.371</td>\n",
       "      <td>5.475</td>\n",
       "      <td>14.040</td>\n",
       "      <td>0.220</td>\n",
       "      <td>0.026</td>\n",
       "      <td>0.0</td>\n",
       "      <td>0.250</td>\n",
       "      <td>0.006</td>\n",
       "      <td>...</td>\n",
       "      <td>0.085</td>\n",
       "      <td>0.152</td>\n",
       "      <td>0.002</td>\n",
       "      <td>0.022</td>\n",
       "      <td>0.056</td>\n",
       "      <td>0.001</td>\n",
       "      <td>0.106</td>\n",
       "      <td>0.0</td>\n",
       "      <td>0.001</td>\n",
       "      <td>0.003</td>\n",
       "    </tr>\n",
       "    <tr>\n",
       "      <th>2</th>\n",
       "      <td>78.375</td>\n",
       "      <td>0.0</td>\n",
       "      <td>1.688</td>\n",
       "      <td>5.512</td>\n",
       "      <td>12.949</td>\n",
       "      <td>0.240</td>\n",
       "      <td>0.031</td>\n",
       "      <td>0.0</td>\n",
       "      <td>0.408</td>\n",
       "      <td>0.006</td>\n",
       "      <td>...</td>\n",
       "      <td>0.090</td>\n",
       "      <td>0.158</td>\n",
       "      <td>0.002</td>\n",
       "      <td>0.026</td>\n",
       "      <td>0.073</td>\n",
       "      <td>0.001</td>\n",
       "      <td>0.110</td>\n",
       "      <td>0.0</td>\n",
       "      <td>0.002</td>\n",
       "      <td>0.003</td>\n",
       "    </tr>\n",
       "    <tr>\n",
       "      <th>3</th>\n",
       "      <td>79.266</td>\n",
       "      <td>0.0</td>\n",
       "      <td>1.861</td>\n",
       "      <td>5.565</td>\n",
       "      <td>11.782</td>\n",
       "      <td>0.284</td>\n",
       "      <td>0.028</td>\n",
       "      <td>0.0</td>\n",
       "      <td>0.416</td>\n",
       "      <td>0.005</td>\n",
       "      <td>...</td>\n",
       "      <td>0.090</td>\n",
       "      <td>0.160</td>\n",
       "      <td>0.002</td>\n",
       "      <td>0.029</td>\n",
       "      <td>0.066</td>\n",
       "      <td>0.001</td>\n",
       "      <td>0.111</td>\n",
       "      <td>0.0</td>\n",
       "      <td>0.002</td>\n",
       "      <td>0.003</td>\n",
       "    </tr>\n",
       "    <tr>\n",
       "      <th>4</th>\n",
       "      <td>79.067</td>\n",
       "      <td>0.0</td>\n",
       "      <td>2.008</td>\n",
       "      <td>5.541</td>\n",
       "      <td>12.008</td>\n",
       "      <td>0.233</td>\n",
       "      <td>0.030</td>\n",
       "      <td>0.0</td>\n",
       "      <td>0.342</td>\n",
       "      <td>0.009</td>\n",
       "      <td>...</td>\n",
       "      <td>0.088</td>\n",
       "      <td>0.158</td>\n",
       "      <td>0.002</td>\n",
       "      <td>0.027</td>\n",
       "      <td>0.045</td>\n",
       "      <td>0.001</td>\n",
       "      <td>0.110</td>\n",
       "      <td>0.0</td>\n",
       "      <td>0.002</td>\n",
       "      <td>0.003</td>\n",
       "    </tr>\n",
       "  </tbody>\n",
       "</table>\n",
       "<p>5 rows × 23 columns</p>\n",
       "</div>"
      ],
      "text/plain": [
       "       Si   Al     Mg     Ca      Na      K     Fe   Ti      S     Ba  ...  \\\n",
       "0  78.564  0.0  1.963  5.450  12.732  0.220  0.026  0.0  0.283  0.007  ...   \n",
       "1  77.869  0.0  1.371  5.475  14.040  0.220  0.026  0.0  0.250  0.006  ...   \n",
       "2  78.375  0.0  1.688  5.512  12.949  0.240  0.031  0.0  0.408  0.006  ...   \n",
       "3  79.266  0.0  1.861  5.565  11.782  0.284  0.028  0.0  0.416  0.005  ...   \n",
       "4  79.067  0.0  2.008  5.541  12.008  0.233  0.030  0.0  0.342  0.009  ...   \n",
       "\n",
       "      As     Sb     Zr      P     Cl     Cr     Mn   Ni     Cu     Sr  \n",
       "0  0.083  0.151  0.002  0.023  0.055  0.002  0.108  0.0  0.002  0.003  \n",
       "1  0.085  0.152  0.002  0.022  0.056  0.001  0.106  0.0  0.001  0.003  \n",
       "2  0.090  0.158  0.002  0.026  0.073  0.001  0.110  0.0  0.002  0.003  \n",
       "3  0.090  0.160  0.002  0.029  0.066  0.001  0.111  0.0  0.002  0.003  \n",
       "4  0.088  0.158  0.002  0.027  0.045  0.001  0.110  0.0  0.002  0.003  \n",
       "\n",
       "[5 rows x 23 columns]"
      ]
     },
     "execution_count": 100,
     "metadata": {},
     "output_type": "execute_result"
    }
   ],
   "source": [
    "import pandas as pd\n",
    "from sklearn.decomposition import PCA\n",
    "\n",
    "data_pXRF = pd.read_csv(\"./data/dados_pXRF_alldata.csv\")\n",
    "obj_label = data_pXRF[\"Obj\"]\n",
    "data_pXRF = data_pXRF[data_pXRF.columns[1:-2]]\n",
    "data_pXRF.head()"
   ]
  },
  {
   "cell_type": "markdown",
   "metadata": {},
   "source": [
    "This is a dataset about glass containers composition, where each line is a glass container and the columns represent a measurement regarding its component.\n",
    "\n",
    "For example, in the first line we can see that the glass container composition is 78.6% Si, 0% Al, 2% Mg, and so on. \n",
    "\n",
    "The question that we want to awnser is: **can we find any composition groups in the glass containers?**"
   ]
  },
  {
   "cell_type": "markdown",
   "metadata": {},
   "source": [
    "#### PCA to the rescue\n",
    "\n",
    "Given the above explanation about PCA, one should be expecting that by using the PCA we can transform the dataset to a new base (a new vector space) that maybe will combine (linearly) the most important variables in the top2 or top3 principal components.\n",
    "\n",
    "If such happens, we can explain the variability of the dataset with only those components, and maybe in this space we can see some kind of grouping!\n",
    "\n",
    "Let's check!\n"
   ]
  },
  {
   "cell_type": "code",
   "execution_count": 101,
   "metadata": {},
   "outputs": [],
   "source": [
    "pca_xprf = PCA(n_components=2).fit(data_pXRF.values)\n",
    "pca_xprf_transformed = pca_xprf.transform(data_pXRF.values)"
   ]
  },
  {
   "cell_type": "code",
   "execution_count": 102,
   "metadata": {},
   "outputs": [
    {
     "name": "stdout",
     "output_type": "stream",
     "text": [
      "[0.9144794  0.06936898]\n"
     ]
    }
   ],
   "source": [
    "print(pca_xprf.explained_variance_ratio_)"
   ]
  },
  {
   "cell_type": "markdown",
   "metadata": {},
   "source": [
    "Wow! Awesome! With only two principal components, almost 99% of the data variability is explained!\n",
    "\n",
    "Just like that, we get rid of those 23 initial dimensions, and we are now working with only 2 variables!\n",
    "\n",
    "\n",
    "Let's see if in this 2d space, we can form groups!"
   ]
  },
  {
   "cell_type": "code",
   "execution_count": 136,
   "metadata": {},
   "outputs": [
    {
     "data": {
      "text/plain": [
       "(74, 2)"
      ]
     },
     "execution_count": 136,
     "metadata": {},
     "output_type": "execute_result"
    }
   ],
   "source": [
    "pca_xprf_transformed.shape"
   ]
  },
  {
   "cell_type": "code",
   "execution_count": 113,
   "metadata": {},
   "outputs": [],
   "source": [
    "pca_components_explainable = pd.DataFrame(data=pca_xprf.components_,\n",
    "                                 index=[\"PC1\",\"PC2\"],\n",
    "                                 columns = data_pXRF.columns)\n",
    "\n",
    "data_pXRF_transformed = pd.DataFrame(data=pca_xprf_transformed,    # values\n",
    "             index=obj_label,    # 1st column as index\n",
    "              columns=[\"PC1\",\"PC2\"])"
   ]
  },
  {
   "cell_type": "code",
   "execution_count": 106,
   "metadata": {},
   "outputs": [
    {
     "data": {
      "text/html": [
       "<div>\n",
       "<style scoped>\n",
       "    .dataframe tbody tr th:only-of-type {\n",
       "        vertical-align: middle;\n",
       "    }\n",
       "\n",
       "    .dataframe tbody tr th {\n",
       "        vertical-align: top;\n",
       "    }\n",
       "\n",
       "    .dataframe thead th {\n",
       "        text-align: right;\n",
       "    }\n",
       "</style>\n",
       "<table border=\"1\" class=\"dataframe\">\n",
       "  <thead>\n",
       "    <tr style=\"text-align: right;\">\n",
       "      <th></th>\n",
       "      <th>PC1</th>\n",
       "      <th>PC2</th>\n",
       "    </tr>\n",
       "    <tr>\n",
       "      <th>Obj</th>\n",
       "      <th></th>\n",
       "      <th></th>\n",
       "    </tr>\n",
       "  </thead>\n",
       "  <tbody>\n",
       "    <tr>\n",
       "      <th>1</th>\n",
       "      <td>-4.092015</td>\n",
       "      <td>-0.562348</td>\n",
       "    </tr>\n",
       "    <tr>\n",
       "      <th>2</th>\n",
       "      <td>-2.654772</td>\n",
       "      <td>-0.685942</td>\n",
       "    </tr>\n",
       "    <tr>\n",
       "      <th>3</th>\n",
       "      <td>-3.802708</td>\n",
       "      <td>-0.521244</td>\n",
       "    </tr>\n",
       "    <tr>\n",
       "      <th>4</th>\n",
       "      <td>-5.266906</td>\n",
       "      <td>-0.421200</td>\n",
       "    </tr>\n",
       "    <tr>\n",
       "      <th>5</th>\n",
       "      <td>-4.968433</td>\n",
       "      <td>-0.491339</td>\n",
       "    </tr>\n",
       "  </tbody>\n",
       "</table>\n",
       "</div>"
      ],
      "text/plain": [
       "          PC1       PC2\n",
       "Obj                    \n",
       "1   -4.092015 -0.562348\n",
       "2   -2.654772 -0.685942\n",
       "3   -3.802708 -0.521244\n",
       "4   -5.266906 -0.421200\n",
       "5   -4.968433 -0.491339"
      ]
     },
     "execution_count": 106,
     "metadata": {},
     "output_type": "execute_result"
    }
   ],
   "source": [
    "data_pXRF_transformed.head()"
   ]
  },
  {
   "cell_type": "code",
   "execution_count": 109,
   "metadata": {},
   "outputs": [
    {
     "data": {
      "text/plain": [
       "<matplotlib.axes._subplots.AxesSubplot at 0x7fdfe2e49320>"
      ]
     },
     "execution_count": 109,
     "metadata": {},
     "output_type": "execute_result"
    },
    {
     "data": {
      "image/png": "[encoded data removed]",
      "text/plain": [
       "<Figure size 432x288 with 1 Axes>"
      ]
     },
     "metadata": {
      "needs_background": "light"
     },
     "output_type": "display_data"
    }
   ],
   "source": [
    "data_pXRF_transformed.plot(kind=\"scatter\",x=\"PC1\",y=\"PC2\")"
   ]
  },
  {
   "cell_type": "markdown",
   "metadata": {},
   "source": [
    "So - can we form groups? :)\n",
    "\n",
    "Now, we have two components but we do not know what they are encoding. Let's look at the loadings matrix to interpretate these components!"
   ]
  },
  {
   "cell_type": "code",
   "execution_count": 138,
   "metadata": {},
   "outputs": [
    {
     "data": {
      "text/plain": [
       "K     0.009969\n",
       "Mg    0.016749\n",
       "Ca    0.051953\n",
       "Si    0.680157\n",
       "Na    0.730925\n",
       "Name: PC1, dtype: float64"
      ]
     },
     "execution_count": 138,
     "metadata": {},
     "output_type": "execute_result"
    }
   ],
   "source": [
    "# Obtain the first principal component and get the top greater 5 input variables\n",
    "# Since variance can also be explained in a negative way, let's apply an abs before we sort the values\n",
    "pca_components_explainable.iloc[0].apply(np.abs).sort_values()[-5:]"
   ]
  },
  {
   "cell_type": "markdown",
   "metadata": {},
   "source": [
    "So, the PC1 can be explained by, mainly, by the `Na` and `Si` variable."
   ]
  },
  {
   "cell_type": "code",
   "execution_count": 139,
   "metadata": {},
   "outputs": [
    {
     "data": {
      "text/plain": [
       "Ca    0.063759\n",
       "Mg    0.141003\n",
       "Na    0.340976\n",
       "Si    0.344918\n",
       "K     0.855655\n",
       "Name: PC2, dtype: float64"
      ]
     },
     "execution_count": 139,
     "metadata": {},
     "output_type": "execute_result"
    }
   ],
   "source": [
    "# Obtain the second principal component and get the top greater 5 input variables\n",
    "# Since variance can also be explained in a negative way, let's apply an abs before we sort the values\n",
    "pca_components_explainable.iloc[1].apply(np.abs).sort_values()[-5:]"
   ]
  },
  {
   "cell_type": "markdown",
   "metadata": {},
   "source": [
    "Now, the PC2 can be explained by the `K`, `Si` and `Na`"
   ]
  },
  {
   "cell_type": "markdown",
   "metadata": {},
   "source": [
    "### Another comparation between PCA and NMF - Faces characterization"
   ]
  },
  {
   "cell_type": "code",
   "execution_count": 23,
   "metadata": {},
   "outputs": [
    {
     "name": "stderr",
     "output_type": "stream",
     "text": [
      "Downloading LFW metadata: https://ndownloader.figshare.com/files/5976012\n",
      "2019-11-19 06:30:38,199 Downloading LFW metadata: https://ndownloader.figshare.com/files/5976012\n",
      "Downloading LFW metadata: https://ndownloader.figshare.com/files/5976009\n",
      "2019-11-19 06:30:38,869 Downloading LFW metadata: https://ndownloader.figshare.com/files/5976009\n",
      "Downloading LFW metadata: https://ndownloader.figshare.com/files/5976006\n",
      "2019-11-19 06:30:39,468 Downloading LFW metadata: https://ndownloader.figshare.com/files/5976006\n",
      "Downloading LFW data (~200MB): https://ndownloader.figshare.com/files/5976015\n",
      "2019-11-19 06:30:40,170 Downloading LFW data (~200MB): https://ndownloader.figshare.com/files/5976015\n"
     ]
    }
   ],
   "source": [
    "from time import time\n",
    "import logging\n",
    "import matplotlib.pyplot as plt\n",
    "\n",
    "from sklearn.model_selection import train_test_split\n",
    "from sklearn.model_selection import GridSearchCV\n",
    "from sklearn.datasets import fetch_lfw_people\n",
    "from sklearn.metrics import classification_report\n",
    "from sklearn.metrics import confusion_matrix\n",
    "from sklearn.decomposition import PCA\n",
    "from sklearn.decomposition import NMF\n",
    "\n",
    "logging.basicConfig(level=logging.INFO, format='%(asctime)s %(message)s')\n",
    "\n",
    "\n",
    "# #############################################################################\n",
    "# Download the data, if not already on disk and load it as numpy arrays\n",
    "\n",
    "lfw_people = fetch_lfw_people(min_faces_per_person=70, resize=0.4)"
   ]
  },
  {
   "cell_type": "code",
   "execution_count": 24,
   "metadata": {},
   "outputs": [],
   "source": [
    "# introspect the images arrays to find the shapes (for plotting)\n",
    "n_samples, h, w = lfw_people.images.shape\n",
    "\n",
    "# for machine learning we use the 2 data directly (as relative pixel\n",
    "# positions info is ignored by this model)\n",
    "X = lfw_people.data\n",
    "n_features = X.shape[1]"
   ]
  },
  {
   "cell_type": "code",
   "execution_count": 33,
   "metadata": {},
   "outputs": [],
   "source": [
    "# the label to predict is the id of the person\n",
    "y = lfw_people.target\n",
    "target_names = lfw_people.target_names\n",
    "n_classes = target_names.shape[0]"
   ]
  },
  {
   "cell_type": "code",
   "execution_count": 85,
   "metadata": {},
   "outputs": [
    {
     "data": {
      "text/plain": [
       "(1288,)"
      ]
     },
     "execution_count": 85,
     "metadata": {},
     "output_type": "execute_result"
    }
   ],
   "source": [
    "lfw_people.target.shape"
   ]
  },
  {
   "cell_type": "code",
   "execution_count": 45,
   "metadata": {},
   "outputs": [
    {
     "name": "stdout",
     "output_type": "stream",
     "text": [
      "Images properties:\n",
      "n_images: 1288\n",
      "nmr of pixeis per row: 37\n",
      "nmr of pixeis per column: 50\n",
      "\n",
      "\n",
      "Total dataset size:\n",
      "n_samples: 1288\n",
      "n_features: 1850\n",
      "n_classes: 7\n"
     ]
    }
   ],
   "source": [
    "print(\"Images properties:\")\n",
    "print(\"n_images: %d\" % n_samples)\n",
    "print(f\"nmr of pixeis per row: {w}\")\n",
    "print(f\"nmr of pixeis per column: {h}\")\n",
    "\n",
    "print(\"\\n\")\n",
    "\n",
    "print(\"Total dataset size:\")\n",
    "print(\"n_samples: %d\" % n_samples)\n",
    "print(\"n_features: %d\" % n_features)\n",
    "print(\"n_classes: %d\" % n_classes)"
   ]
  },
  {
   "cell_type": "code",
   "execution_count": 56,
   "metadata": {},
   "outputs": [
    {
     "data": {
      "text/plain": [
       "(1288, 1850)"
      ]
     },
     "execution_count": 56,
     "metadata": {},
     "output_type": "execute_result"
    }
   ],
   "source": [
    "X.shape"
   ]
  },
  {
   "cell_type": "code",
   "execution_count": 36,
   "metadata": {},
   "outputs": [],
   "source": [
    "n_components = 150"
   ]
  },
  {
   "cell_type": "code",
   "execution_count": 57,
   "metadata": {},
   "outputs": [
    {
     "name": "stdout",
     "output_type": "stream",
     "text": [
      "Extracting the top 150 eigenfaces from 1288 faces\n",
      "done in 0.126s\n",
      "The accumulated explained variance in these 150 components is 0.9534062743186951\n",
      "Projecting the input data on the eigenfaces orthonormal basis\n",
      "done in 0.014s\n"
     ]
    }
   ],
   "source": [
    "print(f\"Extracting the top {n_components} eigenfaces from {X.shape[0]} faces\")\n",
    "t0 = time()\n",
    "pca = PCA(n_components=n_components, svd_solver='randomized',\n",
    "          whiten=True).fit(X)\n",
    "print(\"done in %0.3fs\" % (time() - t0))\n",
    "print(f\"The accumulated explained variance in these {n_components} components is {np.sum(pca.explained_variance_ratio_)}\") \n",
    "\n",
    "eigenfaces = pca.components_.reshape((n_components, h, w))\n",
    "\n",
    "print(\"Projecting the input data on the eigenfaces orthonormal basis\")\n",
    "t0 = time()\n",
    "X_pca = pca.transform(X)\n",
    "print(\"done in %0.3fs\" % (time() - t0))"
   ]
  },
  {
   "cell_type": "code",
   "execution_count": 38,
   "metadata": {},
   "outputs": [],
   "source": [
    "# #############################################################################\n",
    "# Qualitative evaluation of the predictions using matplotlib\n",
    "\n",
    "def plot_gallery(images, titles, h, w, n_row=3, n_col=4):\n",
    "    \"\"\"Helper function to plot a gallery of portraits\"\"\"\n",
    "    plt.figure(figsize=(1.8 * n_col, 2.4 * n_row))\n",
    "    plt.subplots_adjust(bottom=0, left=.01, right=.99, top=.90, hspace=.35)\n",
    "    for i in range(n_row * n_col):\n",
    "        plt.subplot(n_row, n_col, i + 1)\n",
    "        plt.imshow(images[i].reshape((h, w)), cmap=plt.cm.gray)\n",
    "        plt.title(titles[i], size=12)\n",
    "        plt.xticks(())\n",
    "        plt.yticks(())\n",
    "\n",
    "\n",
    "# plot the result of the prediction on a portion of the test set\n",
    "\n",
    "def title(y_pred, y_test, target_names, i):\n",
    "    pred_name = target_names[y_pred[i]].rsplit(' ', 1)[-1]\n",
    "    true_name = target_names[y_test[i]].rsplit(' ', 1)[-1]\n",
    "    return 'predicted: %s\\ntrue:      %s' % (pred_name, true_name)\n"
   ]
  },
  {
   "cell_type": "code",
   "execution_count": 55,
   "metadata": {},
   "outputs": [
    {
     "data": {
      "text/plain": [
       "(150, 1850)"
      ]
     },
     "execution_count": 55,
     "metadata": {},
     "output_type": "execute_result"
    }
   ],
   "source": [
    "pca.components_.shape"
   ]
  },
  {
   "cell_type": "code",
   "execution_count": 88,
   "metadata": {},
   "outputs": [
    {
     "data": {
      "image/png": "[encoded data removed]",
      "text/plain": [
       "<Figure size 518.4x518.4 with 12 Axes>"
      ]
     },
     "metadata": {},
     "output_type": "display_data"
    }
   ],
   "source": [
    "n_col = 4\n",
    "n_row = 3\n",
    "eigenface_titles = [f\"person:\\n {lfw_people.target_names[lfw_people.target[i]]}\"  for i in range(n_row*n_col)]\n",
    "plot_gallery(lfw_people.images, eigenface_titles, h, w)"
   ]
  },
  {
   "cell_type": "code",
   "execution_count": 61,
   "metadata": {},
   "outputs": [
    {
     "data": {
      "image/png": "[encoded data removed]",
      "text/plain": [
       "<Figure size 518.4x518.4 with 12 Axes>"
      ]
     },
     "metadata": {},
     "output_type": "display_data"
    }
   ],
   "source": [
    "eigenface_titles = [\"eigenface %d\" % i for i in range(eigenfaces.shape[0])]\n",
    "plot_gallery(eigenfaces, eigenface_titles, h, w)"
   ]
  },
  {
   "cell_type": "code",
   "execution_count": 84,
   "metadata": {},
   "outputs": [
    {
     "name": "stdout",
     "output_type": "stream",
     "text": [
      "Extracting the top 150 characterization faces from 1288 faces\n",
      "done in 18.920s\n",
      "Projecting the input data on the eigenfaces orthonormal basis\n",
      "done in 19.999s\n"
     ]
    }
   ],
   "source": [
    "print(f\"Extracting the top {n_components} characterization faces from {X.shape[0]} faces\")\n",
    "t0 = time()\n",
    "nmf = NMF(n_components=n_components, init='random', random_state=0).fit(X)\n",
    "H = nmf.components_\n",
    "print(\"done in %0.3fs\" % (time() - t0))\n",
    "\n",
    "nmf_faces = H.reshape((n_components, h, w))\n",
    "\n",
    "print(\"Projecting the input data on the eigenfaces orthonormal basis\")\n",
    "t0 = time()\n",
    "NMF_W = nmf.fit_transform(X)\n",
    "print(\"done in %0.3fs\" % (time() - t0))"
   ]
  },
  {
   "cell_type": "code",
   "execution_count": 89,
   "metadata": {},
   "outputs": [
    {
     "data": {
      "image/png": "[encoded data removed]",
      "text/plain": [
       "<Figure size 518.4x518.4 with 12 Axes>"
      ]
     },
     "metadata": {},
     "output_type": "display_data"
    }
   ],
   "source": [
    "nmface_titles = [\"nmface %d\" % i for i in range(nmf_faces.shape[0])]\n",
    "plot_gallery(nmf_faces, nmface_titles, h, w)"
   ]
  },
  {
   "cell_type": "code",
   "execution_count": null,
   "metadata": {},
   "outputs": [],
   "source": []
  }
 ],
 "metadata": {
  "kernelspec": {
   "display_name": "Python 3",
   "language": "python",
   "name": "python3"
  },
  "language_info": {
   "codemirror_mode": {
    "name": "ipython",
    "version": 3
   },
   "file_extension": ".py",
   "mimetype": "text/x-python",
   "name": "python",
   "nbconvert_exporter": "python",
   "pygments_lexer": "ipython3",
   "version": "3.7.3"
  }
 },
 "nbformat": 4,
 "nbformat_minor": 4
}
